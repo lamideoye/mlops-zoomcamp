{
 "cells": [
  {
   "cell_type": "code",
   "execution_count": 1,
   "id": "8f947897",
   "metadata": {},
   "outputs": [],
   "source": [
    "#import libraries\n",
    "\n",
    "import os\n",
    "import random\n",
    "import warnings\n",
    "warnings.filterwarnings(\"ignore\")\n",
    "\n",
    "\n",
    "import pandas as pd\n",
    "import numpy as np\n",
    "import pickle\n",
    "\n",
    "import matplotlib.pyplot as plt\n",
    "import seaborn as sns\n",
    "\n",
    "\n",
    "from sklearn.linear_model import LinearRegression\n",
    "from sklearn.metrics import mean_squared_error\n",
    "from sklearn.feature_extraction import DictVectorizer"
   ]
  },
  {
   "cell_type": "code",
   "execution_count": 2,
   "id": "6d003231",
   "metadata": {},
   "outputs": [],
   "source": [
    "# load the dataset. it's in parquet format\n",
    "df = pd.read_parquet(\"data/fhv_tripdata_2021-01.parquet\")"
   ]
  },
  {
   "cell_type": "code",
   "execution_count": 3,
   "id": "734669b2",
   "metadata": {},
   "outputs": [
    {
     "name": "stdout",
     "output_type": "stream",
     "text": [
      "Number of records in Jan 2021 FHV data 1154112\n"
     ]
    }
   ],
   "source": [
    "print(f\"Number of records in Jan 2021 FHV data {len(df)}\")"
   ]
  },
  {
   "cell_type": "code",
   "execution_count": 4,
   "id": "977b12c9",
   "metadata": {},
   "outputs": [],
   "source": [
    "# compute the duration of each trip\n",
    "df[\"duration\"] = df.dropOff_datetime - df.pickup_datetime\n",
    "df.duration = df.duration.apply(lambda td: td.total_seconds() / 60)"
   ]
  },
  {
   "cell_type": "code",
   "execution_count": 5,
   "id": "ccbcddb9",
   "metadata": {},
   "outputs": [
    {
     "name": "stdout",
     "output_type": "stream",
     "text": [
      "Average trip duration in January is 19.17 mins\n"
     ]
    }
   ],
   "source": [
    "# what's the average trip time?\n",
    "trip_duration = np.mean(df.duration).round(2)\n",
    "print(f\"Average trip duration in January is {trip_duration} mins\")"
   ]
  },
  {
   "cell_type": "code",
   "execution_count": 6,
   "id": "a9366192",
   "metadata": {},
   "outputs": [],
   "source": [
    "def read_dataframe(filename):\n",
    "    # load the dataset\n",
    "    \n",
    "    if filename.endswith(\".csv\"):\n",
    "        df = pd.read_csv(filename)\n",
    "        \n",
    "        df.pickup_datetime = pd.to_datetime(df.pickup_datetime)\n",
    "        df.dropOff_datetime = pd.to_datetime(df.dropOff_datetime)\n",
    "    else:\n",
    "        df = pd.read_parquet(filename)\n",
    "    \n",
    "    # create a trip duration column\n",
    "        \n",
    "    df[\"duration\"] = df.dropOff_datetime - df.pickup_datetime\n",
    "    df.duration = df.duration.apply(lambda td: td.total_seconds() / 60)\n",
    "\n",
    "    df = df[(df.duration >= 1) & (df.duration <= 60)]\n",
    "    \n",
    "    # fill in the missing values with -1\n",
    "    \n",
    "    df[\"PUlocationID\"].fillna(-1, inplace=True)\n",
    "    df[\"DOlocationID\"].fillna(-1, inplace=True)\n",
    "    \n",
    "    # PulocationID and DOlocation are categorical data\n",
    "    categorical = ['PUlocationID', 'DOlocationID']\n",
    "    df[categorical] = df[categorical].astype(str)\n",
    "  \n",
    "    return df"
   ]
  },
  {
   "cell_type": "code",
   "execution_count": 7,
   "id": "2740b0db",
   "metadata": {},
   "outputs": [],
   "source": [
    "# load the train and validatation data set. January is for training, February is for validation\n",
    "\n",
    "train = read_dataframe(\"data/fhv_tripdata_2021-01.parquet\")\n",
    "val = read_dataframe(\"data/fhv_tripdata_2021-02.parquet\")"
   ]
  },
  {
   "cell_type": "code",
   "execution_count": 8,
   "id": "5893ea73",
   "metadata": {},
   "outputs": [
    {
     "data": {
      "text/html": [
       "<div>\n",
       "<style scoped>\n",
       "    .dataframe tbody tr th:only-of-type {\n",
       "        vertical-align: middle;\n",
       "    }\n",
       "\n",
       "    .dataframe tbody tr th {\n",
       "        vertical-align: top;\n",
       "    }\n",
       "\n",
       "    .dataframe thead th {\n",
       "        text-align: right;\n",
       "    }\n",
       "</style>\n",
       "<table border=\"1\" class=\"dataframe\">\n",
       "  <thead>\n",
       "    <tr style=\"text-align: right;\">\n",
       "      <th></th>\n",
       "      <th>dispatching_base_num</th>\n",
       "      <th>pickup_datetime</th>\n",
       "      <th>dropOff_datetime</th>\n",
       "      <th>PUlocationID</th>\n",
       "      <th>DOlocationID</th>\n",
       "      <th>SR_Flag</th>\n",
       "      <th>Affiliated_base_number</th>\n",
       "      <th>duration</th>\n",
       "    </tr>\n",
       "  </thead>\n",
       "  <tbody>\n",
       "    <tr>\n",
       "      <th>0</th>\n",
       "      <td>B00009</td>\n",
       "      <td>2021-01-01 00:27:00</td>\n",
       "      <td>2021-01-01 00:44:00</td>\n",
       "      <td>-1.0</td>\n",
       "      <td>-1.0</td>\n",
       "      <td>None</td>\n",
       "      <td>B00009</td>\n",
       "      <td>17.000000</td>\n",
       "    </tr>\n",
       "    <tr>\n",
       "      <th>1</th>\n",
       "      <td>B00009</td>\n",
       "      <td>2021-01-01 00:50:00</td>\n",
       "      <td>2021-01-01 01:07:00</td>\n",
       "      <td>-1.0</td>\n",
       "      <td>-1.0</td>\n",
       "      <td>None</td>\n",
       "      <td>B00009</td>\n",
       "      <td>17.000000</td>\n",
       "    </tr>\n",
       "    <tr>\n",
       "      <th>3</th>\n",
       "      <td>B00037</td>\n",
       "      <td>2021-01-01 00:13:09</td>\n",
       "      <td>2021-01-01 00:21:26</td>\n",
       "      <td>-1.0</td>\n",
       "      <td>72.0</td>\n",
       "      <td>None</td>\n",
       "      <td>B00037</td>\n",
       "      <td>8.283333</td>\n",
       "    </tr>\n",
       "    <tr>\n",
       "      <th>4</th>\n",
       "      <td>B00037</td>\n",
       "      <td>2021-01-01 00:38:31</td>\n",
       "      <td>2021-01-01 00:53:44</td>\n",
       "      <td>-1.0</td>\n",
       "      <td>61.0</td>\n",
       "      <td>None</td>\n",
       "      <td>B00037</td>\n",
       "      <td>15.216667</td>\n",
       "    </tr>\n",
       "    <tr>\n",
       "      <th>5</th>\n",
       "      <td>B00037</td>\n",
       "      <td>2021-01-01 00:59:02</td>\n",
       "      <td>2021-01-01 01:08:05</td>\n",
       "      <td>-1.0</td>\n",
       "      <td>71.0</td>\n",
       "      <td>None</td>\n",
       "      <td>B00037</td>\n",
       "      <td>9.050000</td>\n",
       "    </tr>\n",
       "  </tbody>\n",
       "</table>\n",
       "</div>"
      ],
      "text/plain": [
       "  dispatching_base_num     pickup_datetime    dropOff_datetime PUlocationID  \\\n",
       "0               B00009 2021-01-01 00:27:00 2021-01-01 00:44:00         -1.0   \n",
       "1               B00009 2021-01-01 00:50:00 2021-01-01 01:07:00         -1.0   \n",
       "3               B00037 2021-01-01 00:13:09 2021-01-01 00:21:26         -1.0   \n",
       "4               B00037 2021-01-01 00:38:31 2021-01-01 00:53:44         -1.0   \n",
       "5               B00037 2021-01-01 00:59:02 2021-01-01 01:08:05         -1.0   \n",
       "\n",
       "  DOlocationID SR_Flag Affiliated_base_number   duration  \n",
       "0         -1.0    None                 B00009  17.000000  \n",
       "1         -1.0    None                 B00009  17.000000  \n",
       "3         72.0    None                 B00037   8.283333  \n",
       "4         61.0    None                 B00037  15.216667  \n",
       "5         71.0    None                 B00037   9.050000  "
      ]
     },
     "execution_count": 8,
     "metadata": {},
     "output_type": "execute_result"
    }
   ],
   "source": [
    "# Explore the first five rows of our train data\n",
    "\n",
    "train.head()"
   ]
  },
  {
   "cell_type": "code",
   "execution_count": 9,
   "id": "dfc89362",
   "metadata": {},
   "outputs": [
    {
     "name": "stdout",
     "output_type": "stream",
     "text": [
      "Fraction of missing values for pickup location ID: 83.5 %\n"
     ]
    }
   ],
   "source": [
    "# what's the percentage of the missing value in pick up location ID?\n",
    "\n",
    "missing_values = np.around(train[\"PUlocationID\"].value_counts(normalize=True), 3)\n",
    "print(f\"Fraction of missing values for pickup location ID: {missing_values[0] * 100} %\")"
   ]
  },
  {
   "cell_type": "code",
   "execution_count": 10,
   "id": "8a760809",
   "metadata": {},
   "outputs": [],
   "source": [
    "# one hot encoding of categorical variables using dictvectorizer\n",
    "\n",
    "features = [\"PUlocationID\", \"DOlocationID\"]\n",
    "dv = DictVectorizer()\n",
    "\n",
    "train_dicts = train[features].to_dict(orient=\"records\")\n",
    "X_train = dv.fit_transform(train_dicts)\n",
    "\n",
    "val_dicts = val[features].to_dict(orient=\"records\")\n",
    "X_val = dv.transform(val_dicts)"
   ]
  },
  {
   "cell_type": "code",
   "execution_count": 11,
   "id": "e28d96df",
   "metadata": {},
   "outputs": [
    {
     "name": "stdout",
     "output_type": "stream",
     "text": [
      "The train dataset has 1109826 rows and 525 columns\n",
      "The validation dataset has 990113 rows and 525 columns\n"
     ]
    }
   ],
   "source": [
    "#shape of the train and validation data after one hot encoding\n",
    "print(f\"The train dataset has {X_train.shape[0]} rows and {X_train.shape[1]} columns\")\n",
    "print(f\"The validation dataset has {X_val.shape[0]} rows and {X_val.shape[1]} columns\")"
   ]
  },
  {
   "cell_type": "code",
   "execution_count": 12,
   "id": "79a74224",
   "metadata": {},
   "outputs": [],
   "source": [
    "# create our features and target \n",
    "\n",
    "target = 'duration'\n",
    "y_train = train[target].values\n",
    "y_val = val[target].values"
   ]
  },
  {
   "cell_type": "code",
   "execution_count": 13,
   "id": "c8f62ace",
   "metadata": {},
   "outputs": [
    {
     "name": "stdout",
     "output_type": "stream",
     "text": [
      "Train rmse: 10.528519425310185\n"
     ]
    }
   ],
   "source": [
    "# train, fit and predict using LinearRegression\n",
    "\n",
    "lr = LinearRegression()\n",
    "lr.fit(X_train, y_train)\n",
    "\n",
    "train_pred = lr.predict(X_train)\n",
    "\n",
    "train_rmse = mean_squared_error(train_pred, y_train, squared=False)\n",
    "print(f\"Train rmse: {train_rmse}\")"
   ]
  },
  {
   "cell_type": "code",
   "execution_count": 14,
   "id": "92e62842",
   "metadata": {},
   "outputs": [
    {
     "name": "stdout",
     "output_type": "stream",
     "text": [
      "Val rmse: 11.014285828610237\n"
     ]
    }
   ],
   "source": [
    "# what is the performance of our model on validation data\n",
    "y_pred = lr.predict(X_val)\n",
    "\n",
    "val_rmse = mean_squared_error(y_val, y_pred, squared=False)\n",
    "print(f\"Val rmse: {val_rmse}\")"
   ]
  },
  {
   "cell_type": "code",
   "execution_count": 15,
   "id": "067e1004",
   "metadata": {},
   "outputs": [],
   "source": [
    "with open('models/lin_reg.bin', 'wb') as f:\n",
    "    pickle.dump((dv, lr), f)"
   ]
  }
 ],
 "metadata": {
  "kernelspec": {
   "display_name": "Python 3 (ipykernel)",
   "language": "python",
   "name": "python3"
  },
  "language_info": {
   "codemirror_mode": {
    "name": "ipython",
    "version": 3
   },
   "file_extension": ".py",
   "mimetype": "text/x-python",
   "name": "python",
   "nbconvert_exporter": "python",
   "pygments_lexer": "ipython3",
   "version": "3.10.4"
  }
 },
 "nbformat": 4,
 "nbformat_minor": 5
}
